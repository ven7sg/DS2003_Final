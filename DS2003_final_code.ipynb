{
  "nbformat": 4,
  "nbformat_minor": 0,
  "metadata": {
    "colab": {
      "provenance": [],
      "authorship_tag": "ABX9TyOZOYZTGJI29TLXLjv/EFAH",
      "include_colab_link": true
    },
    "kernelspec": {
      "name": "python3",
      "display_name": "Python 3"
    },
    "language_info": {
      "name": "python"
    }
  },
  "cells": [
    {
      "cell_type": "markdown",
      "metadata": {
        "id": "view-in-github",
        "colab_type": "text"
      },
      "source": [
        "<a href=\"https://colab.research.google.com/github/ven7sg/DS2003_Final/blob/main/DS2003_final_code.ipynb\" target=\"_parent\"><img src=\"https://colab.research.google.com/assets/colab-badge.svg\" alt=\"Open In Colab\"/></a>"
      ]
    },
    {
      "cell_type": "code",
      "execution_count": null,
      "metadata": {
        "id": "yfDYz8F4zoRo"
      },
      "outputs": [],
      "source": [
        "# DS 2003 Final Project Code\n",
        "# Group 7: Kaitlin Blakeslee, Tamera Fang, Gunni Kamran, Victor Pan, Bryan Tang\n",
        "\n",
        "# Topic: Success of different countries across the globe in the olympic games\n",
        "\n",
        "# Dataset: https://www.kaggle.com/datasets/heesoo37/120-years-of-olympic-history-athletes-and-results\n"
      ]
    }
  ]
}